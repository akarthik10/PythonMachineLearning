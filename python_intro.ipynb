{
 "cells": [
  {
   "cell_type": "markdown",
   "metadata": {
    "collapsed": false
   },
   "source": [
    "Basic Data Types\n",
    "=============="
   ]
  },
  {
   "cell_type": "markdown",
   "metadata": {},
   "source": [
    "Numerical and Logical Types\n",
    "---"
   ]
  },
  {
   "cell_type": "code",
   "execution_count": 1,
   "metadata": {
    "collapsed": false
   },
   "outputs": [
    {
     "name": "stdout",
     "output_type": "stream",
     "text": [
      "1: X= 5\n",
      "2: X= 5.0\n",
      "3: X= True\n",
      "4: X= 50000000000000000000\n"
     ]
    }
   ],
   "source": [
    "X=5 #Set X to integer object equal to 5\n",
    "print \"1: X=\",X\n",
    "\n",
    "X=5.0 #Set X to float object equal to 5.0\n",
    "print \"2: X=\",X\n",
    "\n",
    "X=True #Set X to boolean True\n",
    "print \"3: X=\",X\n",
    "\n",
    "X=50000000000000000000L #Set X to long integer object equal to 5\n",
    "print \"4: X=\",X"
   ]
  },
  {
   "cell_type": "markdown",
   "metadata": {},
   "source": [
    "Strings\n",
    "--"
   ]
  },
  {
   "cell_type": "code",
   "execution_count": 3,
   "metadata": {
    "collapsed": false
   },
   "outputs": [
    {
     "name": "stdout",
     "output_type": "stream",
     "text": [
      " X= This is a string\n"
     ]
    }
   ],
   "source": [
    "X=\"This is a string\" #Set X to a string object defined using double quotes\n",
    "print \"X=\",X"
   ]
  },
  {
   "cell_type": "code",
   "execution_count": 4,
   "metadata": {
    "collapsed": false
   },
   "outputs": [
    {
     "name": "stdout",
     "output_type": "stream",
     "text": [
      "Y= So is this!\n"
     ]
    }
   ],
   "source": [
    "Y='So is this!' #Set X to a string object defined using single quotes\n",
    "print \"Y=\",Y"
   ]
  },
  {
   "cell_type": "code",
   "execution_count": 5,
   "metadata": {
    "collapsed": false
   },
   "outputs": [
    {
     "name": "stdout",
     "output_type": "stream",
     "text": [
      "X[0]= T\n"
     ]
    }
   ],
   "source": [
    "print \"X[0]=\",X[0] \n"
   ]
  },
  {
   "cell_type": "code",
   "execution_count": 27,
   "metadata": {
    "collapsed": false
   },
   "outputs": [
    {
     "name": "stdout",
     "output_type": "stream",
     "text": [
      "X[0:3]= This\n"
     ]
    }
   ],
   "source": [
    "print \"X[0:3]=\",X[0:4] # ARRAY ACCESS OMITS THE LAST ONE --> 0,1,2,3"
   ]
  },
  {
   "cell_type": "code",
   "execution_count": 7,
   "metadata": {
    "collapsed": false
   },
   "outputs": [
    {
     "name": "stdout",
     "output_type": "stream",
     "text": [
      "X.split()= ['This', 'is', 'a', 'string']\n"
     ]
    }
   ],
   "source": [
    "print \"X.split()=\", X.split()"
   ]
  },
  {
   "cell_type": "code",
   "execution_count": 30,
   "metadata": {
    "collapsed": false
   },
   "outputs": [
    {
     "name": "stdout",
     "output_type": "stream",
     "text": [
      "X+'. '+Y= This is a string.So is this!\n",
      "X+'. '+Y= This is a string . So is this!\n",
      "abc This is a string. So is this!\n"
     ]
    }
   ],
   "source": [
    "print \"X+'. '+Y=\",X+ '.' + Y #USUAL PRINT ADDS A SPACE AT THE END. WITH + YOU COULD CURB IT. \n",
    "print \"X+'. '+Y=\",X,\".\",Y\n",
    "print  \"abc\",X+'. '+ Y"
   ]
  },
  {
   "cell_type": "markdown",
   "metadata": {},
   "source": [
    "Containers\n",
    "========"
   ]
  },
  {
   "cell_type": "markdown",
   "metadata": {},
   "source": [
    "Tuples\n",
    "--"
   ]
  },
  {
   "cell_type": "code",
   "execution_count": 31,
   "metadata": {
    "collapsed": false
   },
   "outputs": [
    {
     "name": "stdout",
     "output_type": "stream",
     "text": [
      "type(X)= <type 'tuple'>\n"
     ]
    }
   ],
   "source": [
    "X = (1,2,3,4,5)            #Define tuple -- PARENTHESIS\n",
    "print \"type(X)=\",type(X)"
   ]
  },
  {
   "cell_type": "code",
   "execution_count": 32,
   "metadata": {
    "collapsed": false
   },
   "outputs": [
    {
     "name": "stdout",
     "output_type": "stream",
     "text": [
      "X= (1, 2, 3, 4, 5)\n"
     ]
    }
   ],
   "source": [
    "print \"X=\", X           #Print the tuple "
   ]
  },
  {
   "cell_type": "code",
   "execution_count": 33,
   "metadata": {
    "collapsed": false
   },
   "outputs": [
    {
     "name": "stdout",
     "output_type": "stream",
     "text": [
      "X[0]= 1\n"
     ]
    }
   ],
   "source": [
    "print \"X[0]=\", X[0]     #Print the first element of the tuple"
   ]
  },
  {
   "cell_type": "code",
   "execution_count": 34,
   "metadata": {
    "collapsed": false
   },
   "outputs": [
    {
     "name": "stdout",
     "output_type": "stream",
     "text": [
      "X[4]= 5\n",
      "X[-1]= 5\n"
     ]
    }
   ],
   "source": [
    "print \"X[4]=\", X[4]     #Print the last element of the tuple\n",
    "print \"X[-1]=\", X[-1]   #Print the last element of the tuple-- need not have to know the index for last"
   ]
  },
  {
   "cell_type": "code",
   "execution_count": 35,
   "metadata": {
    "collapsed": false
   },
   "outputs": [
    {
     "name": "stdout",
     "output_type": "stream",
     "text": [
      "len(X)= 5\n"
     ]
    }
   ],
   "source": [
    "print \"len(X)=\", len(X) #Pring length of tuple"
   ]
  },
  {
   "cell_type": "code",
   "execution_count": 36,
   "metadata": {
    "collapsed": false
   },
   "outputs": [
    {
     "ename": "TypeError",
     "evalue": "'tuple' object does not support item assignment",
     "output_type": "error",
     "traceback": [
      "\u001b[0;31m---------------------------------------------------------------------------\u001b[0m",
      "\u001b[0;31mTypeError\u001b[0m                                 Traceback (most recent call last)",
      "\u001b[0;32m<ipython-input-36-f9299d774741>\u001b[0m in \u001b[0;36m<module>\u001b[0;34m()\u001b[0m\n\u001b[0;32m----> 1\u001b[0;31m \u001b[0mX\u001b[0m\u001b[0;34m[\u001b[0m\u001b[0;36m0\u001b[0m\u001b[0;34m]\u001b[0m\u001b[0;34m=\u001b[0m\u001b[0;36m5\u001b[0m                  \u001b[0;31m#Set element of tuple\u001b[0m\u001b[0;34m\u001b[0m\u001b[0m\n\u001b[0m\u001b[1;32m      2\u001b[0m \u001b[0;32mprint\u001b[0m \u001b[0mX\u001b[0m\u001b[0;34m\u001b[0m\u001b[0m\n",
      "\u001b[0;31mTypeError\u001b[0m: 'tuple' object does not support item assignment"
     ]
    }
   ],
   "source": [
    "X[0]=5                  #Set element of tuple -- mutability -NO u cannot change elements in a tuple\n",
    "print X"
   ]
  },
  {
   "cell_type": "markdown",
   "metadata": {},
   "source": [
    "Lists\n",
    "--"
   ]
  },
  {
   "cell_type": "code",
   "execution_count": 37,
   "metadata": {
    "collapsed": false
   },
   "outputs": [
    {
     "name": "stdout",
     "output_type": "stream",
     "text": [
      "type(X)= <type 'list'>\n"
     ]
    }
   ],
   "source": [
    "X = [1,2,3,4,5]            #Define list SQAURE BRACKETS\n",
    "print \"type(X)=\",type(X)   #Show type of X"
   ]
  },
  {
   "cell_type": "code",
   "execution_count": 38,
   "metadata": {
    "collapsed": false
   },
   "outputs": [
    {
     "name": "stdout",
     "output_type": "stream",
     "text": [
      "X= [1, 2, 3, 4, 5]\n"
     ]
    }
   ],
   "source": [
    "print \"X=\", X           #Print the list"
   ]
  },
  {
   "cell_type": "code",
   "execution_count": 39,
   "metadata": {
    "collapsed": false
   },
   "outputs": [
    {
     "name": "stdout",
     "output_type": "stream",
     "text": [
      "X[0]= 1\n"
     ]
    }
   ],
   "source": [
    "print \"X[0]=\", X[0]     #Print the first element of the list"
   ]
  },
  {
   "cell_type": "code",
   "execution_count": 47,
   "metadata": {
    "collapsed": false
   },
   "outputs": [
    {
     "name": "stdout",
     "output_type": "stream",
     "text": [
      "X[4]= 5\n",
      "X[-1]= 5\n",
      "[5, 2, 3, 4, 5]\n"
     ]
    },
    {
     "data": {
      "text/plain": [
       "5"
      ]
     },
     "execution_count": 47,
     "metadata": {},
     "output_type": "execute_result"
    }
   ],
   "source": [
    "print \"X[4]=\", X[4]     #Print the last element of the list\n",
    "print \"X[-1]=\", X[-1]     #Print the last element of the list\n",
    "print X[0:5]\n",
    "X[4]"
   ]
  },
  {
   "cell_type": "code",
   "execution_count": 42,
   "metadata": {
    "collapsed": false
   },
   "outputs": [
    {
     "name": "stdout",
     "output_type": "stream",
     "text": [
      "len(X)= 5\n"
     ]
    }
   ],
   "source": [
    "print \"len(X)=\", len(X) #Pring length of list"
   ]
  },
  {
   "cell_type": "code",
   "execution_count": 45,
   "metadata": {
    "collapsed": false
   },
   "outputs": [
    {
     "name": "stdout",
     "output_type": "stream",
     "text": [
      "X= [5, 2, 3, 4, 5]\n"
     ]
    },
    {
     "data": {
      "text/plain": [
       "5"
      ]
     },
     "execution_count": 45,
     "metadata": {},
     "output_type": "execute_result"
    }
   ],
   "source": [
    "X[0]=5                  #Change the list. \n",
    "print \"X=\", X           #Print the list again "
   ]
  },
  {
   "cell_type": "code",
   "execution_count": 48,
   "metadata": {
    "collapsed": false
   },
   "outputs": [
    {
     "name": "stdout",
     "output_type": "stream",
     "text": [
      "X= [5, 2, 3, 4, 5, 6]\n"
     ]
    }
   ],
   "source": [
    "X.append(6)\n",
    "print 'X=',X"
   ]
  },
  {
   "cell_type": "code",
   "execution_count": 49,
   "metadata": {
    "collapsed": false
   },
   "outputs": [
    {
     "name": "stdout",
     "output_type": "stream",
     "text": [
      "Y= [5, 2, 3, 4, 5, 6, 7, 8]\n"
     ]
    }
   ],
   "source": [
    "Y=X+[7,8] #append\n",
    "print 'Y=',Y"
   ]
  },
  {
   "cell_type": "code",
   "execution_count": 52,
   "metadata": {
    "collapsed": false
   },
   "outputs": [
    {
     "name": "stdout",
     "output_type": "stream",
     "text": [
      "Y= [5, 2, 3, 4, 5, 6, 5, 2, 3, 4, 5, 6]\n"
     ]
    }
   ],
   "source": [
    "Y=X*2 # doubles the array\n",
    "print 'Y=',Y"
   ]
  },
  {
   "cell_type": "markdown",
   "metadata": {},
   "source": [
    "Dictionaries\n",
    "--"
   ]
  },
  {
   "cell_type": "code",
   "execution_count": 53,
   "metadata": {
    "collapsed": false
   },
   "outputs": [
    {
     "name": "stdout",
     "output_type": "stream",
     "text": [
      "type(X) <type 'dict'>\n"
     ]
    }
   ],
   "source": [
    "X = {\"Bob\": 192731, \"Mary\": 281927, \"Joe\": 103124} #Define a dictionary of key-value pairs\n",
    "print \"type(X)\",type(X)"
   ]
  },
  {
   "cell_type": "code",
   "execution_count": 54,
   "metadata": {
    "collapsed": false
   },
   "outputs": [
    {
     "name": "stdout",
     "output_type": "stream",
     "text": [
      "X= {'Bob': 192731, 'Mary': 281927, 'Joe': 103124}\n"
     ]
    }
   ],
   "source": [
    "print \"X=\", X                    #Print the dictionary"
   ]
  },
  {
   "cell_type": "code",
   "execution_count": 55,
   "metadata": {
    "collapsed": false
   },
   "outputs": [
    {
     "name": "stdout",
     "output_type": "stream",
     "text": [
      "X[\"Joe\"]= 103124\n"
     ]
    }
   ],
   "source": [
    "print 'X[\"Joe\"]=', X[\"Joe\"]      #Print the value for Joe"
   ]
  },
  {
   "cell_type": "code",
   "execution_count": 56,
   "metadata": {
    "collapsed": false
   },
   "outputs": [
    {
     "name": "stdout",
     "output_type": "stream",
     "text": [
      "len(X) 3\n"
     ]
    }
   ],
   "source": [
    "print 'len(X)', len(X)           #Print the number of items"
   ]
  },
  {
   "cell_type": "code",
   "execution_count": 57,
   "metadata": {
    "collapsed": false
   },
   "outputs": [
    {
     "name": "stdout",
     "output_type": "stream",
     "text": [
      "X.keys()= ['Bob', 'Mary', 'Joe']\n"
     ]
    }
   ],
   "source": [
    "print 'X.keys()=',X.keys()       #Print the list of keys"
   ]
  },
  {
   "cell_type": "code",
   "execution_count": 58,
   "metadata": {
    "collapsed": false
   },
   "outputs": [
    {
     "name": "stdout",
     "output_type": "stream",
     "text": [
      "X.values()= [192731, 281927, 103124]\n"
     ]
    }
   ],
   "source": [
    "print 'X.values()=',X.values()   #Print the list of values\n"
   ]
  },
  {
   "cell_type": "code",
   "execution_count": 59,
   "metadata": {
    "collapsed": false
   },
   "outputs": [
    {
     "name": "stdout",
     "output_type": "stream",
     "text": [
      "X= {'Bob': 192731, 'Mary': 281927, 'Joe': 772345}\n"
     ]
    }
   ],
   "source": [
    "X[\"Joe\"]=772345                   #Change an element\n",
    "print \"X=\", X "
   ]
  },
  {
   "cell_type": "code",
   "execution_count": 60,
   "metadata": {
    "collapsed": false
   },
   "outputs": [
    {
     "name": "stdout",
     "output_type": "stream",
     "text": [
      "X= {'Bob': 192731, 'Mary': 281927, 'Alice': 111111, 'Joe': 772345}\n"
     ]
    }
   ],
   "source": [
    "X[\"Alice\"]=111111                 #Add a new element\n",
    "print \"X=\", X "
   ]
  },
  {
   "cell_type": "markdown",
   "metadata": {},
   "source": [
    "Containers with Nesting and Mixed Elements\n",
    "--"
   ]
  },
  {
   "cell_type": "code",
   "execution_count": 65,
   "metadata": {
    "collapsed": false
   },
   "outputs": [
    {
     "name": "stdout",
     "output_type": "stream",
     "text": [
      "X= [1, 'Foo', False, [1, 2, 3], (1, True)]\n",
      "<type 'list'>\n"
     ]
    },
    {
     "data": {
      "text/plain": [
       "tuple"
      ]
     },
     "execution_count": 65,
     "metadata": {},
     "output_type": "execute_result"
    }
   ],
   "source": [
    "X = [1,\"Foo\",False,[1,2,3],(1,True)] #Lists can contain mixed types!\n",
    "print \"X=\", X                        #Print the list\n",
    "print type(X[3])\n",
    "type(X[4])"
   ]
  },
  {
   "cell_type": "code",
   "execution_count": 67,
   "metadata": {
    "collapsed": false
   },
   "outputs": [
    {
     "data": {
      "text/plain": [
       "True"
      ]
     },
     "execution_count": 67,
     "metadata": {},
     "output_type": "execute_result"
    }
   ],
   "source": [
    "#How can we get the second item in the tuple at the end of the list?\n",
    "a = X[4]\n",
    "a[1]"
   ]
  },
  {
   "cell_type": "markdown",
   "metadata": {},
   "source": [
    "Assignment Dynamics\n",
    "=="
   ]
  },
  {
   "cell_type": "code",
   "execution_count": 68,
   "metadata": {
    "collapsed": false
   },
   "outputs": [
    {
     "name": "stdout",
     "output_type": "stream",
     "text": [
      "A= 5 B= 5\n"
     ]
    }
   ],
   "source": [
    "A = 5  #Assign the object \"5\" to the name A\n",
    "B = A  #Assign the object that A referes to to the name B -- A n B refer to the same memory location.. \n",
    "#change to any will be reflected in other\n",
    "print \"A=\",A,\"B=\",B "
   ]
  },
  {
   "cell_type": "code",
   "execution_count": 69,
   "metadata": {
    "collapsed": false
   },
   "outputs": [
    {
     "name": "stdout",
     "output_type": "stream",
     "text": [
      "A= 5 B= 7\n"
     ]
    }
   ],
   "source": [
    "B = 7               \n",
    "print \"A=\",A,\"B=\",B "
   ]
  },
  {
   "cell_type": "code",
   "execution_count": 70,
   "metadata": {
    "collapsed": false
   },
   "outputs": [
    {
     "name": "stdout",
     "output_type": "stream",
     "text": [
      "A= [1, 2, 3, 4, 5] B= [1, 2, 3, 4, 5]\n"
     ]
    }
   ],
   "source": [
    "A = [1,2,3,4,5]\n",
    "B = A\n",
    "print \"A=\",A,\"B=\",B "
   ]
  },
  {
   "cell_type": "code",
   "execution_count": 71,
   "metadata": {
    "collapsed": false
   },
   "outputs": [
    {
     "name": "stdout",
     "output_type": "stream",
     "text": [
      "A= [1, 2, 3, 4, 5] B= [5, 4, 3, 2, 1]\n"
     ]
    }
   ],
   "source": [
    "A = [1,2,3,4,5]\n",
    "B = A\n",
    "B = [5,4,3,2,1]        \n",
    "print \"A=\",A,\"B=\",B  "
   ]
  },
  {
   "cell_type": "code",
   "execution_count": 73,
   "metadata": {
    "collapsed": false
   },
   "outputs": [
    {
     "name": "stdout",
     "output_type": "stream",
     "text": [
      "A= [1, 2, 3, 4, 5, 6, 7] B= [1, 2, 3, 4, 5, 6, 7]\n"
     ]
    }
   ],
   "source": [
    "A = [1,2,3,4,5]\n",
    "B=A\n",
    "A.append(6)\n",
    "B.append(7)\n",
    "print \"A=\",A,\"B=\",B "
   ]
  },
  {
   "cell_type": "code",
   "execution_count": 74,
   "metadata": {
    "collapsed": false
   },
   "outputs": [
    {
     "name": "stdout",
     "output_type": "stream",
     "text": [
      "A= [-1, 2, 3, 4, 5] B= [-1, 2, 3, 4, 5]\n"
     ]
    }
   ],
   "source": [
    "A = [1,2,3,4,5]\n",
    "B = A\n",
    "B[0]=-1\n",
    "print \"A=\",A,\"B=\",B"
   ]
  },
  {
   "cell_type": "markdown",
   "metadata": {
    "collapsed": true
   },
   "source": [
    "Basic Control Flow\n",
    "==\n"
   ]
  },
  {
   "cell_type": "markdown",
   "metadata": {},
   "source": [
    "If-Elif-Else\n",
    "--"
   ]
  },
  {
   "cell_type": "code",
   "execution_count": 75,
   "metadata": {
    "collapsed": false
   },
   "outputs": [
    {
     "name": "stdout",
     "output_type": "stream",
     "text": [
      "X is positive\n"
     ]
    }
   ],
   "source": [
    "#Basic If-Elif-Else\n",
    "X=5\n",
    "if(X<0):\n",
    "    print(\"X is negative\")\n",
    "elif(X==0):\n",
    "    print(\"X is zero\")\n",
    "else:\n",
    "    print(\"X is positive\")\n"
   ]
  },
  {
   "cell_type": "markdown",
   "metadata": {},
   "source": [
    "For and While\n",
    "--"
   ]
  },
  {
   "cell_type": "code",
   "execution_count": 95,
   "metadata": {
    "collapsed": false
   },
   "outputs": [
    {
     "name": "stdout",
     "output_type": "stream",
     "text": [
      "0 0\n",
      "1 1\n",
      "2 2\n",
      "3 3\n",
      "4 4\n",
      "5 5\n",
      "6 6\n",
      "7 7\n",
      "8 8\n",
      "9 9\n",
      "[0, 1, 2]\n"
     ]
    }
   ],
   "source": [
    "#Basic for loop using range()\n",
    "\n",
    "for i in range(10): \n",
    "    print(i),\n",
    "    \n",
    "    print i # still part of for loop --indentation\n",
    "    \n",
    "print a;\n"
   ]
  },
  {
   "cell_type": "code",
   "execution_count": null,
   "metadata": {
    "collapsed": false
   },
   "outputs": [],
   "source": [
    "#Basic while loop\n",
    "x=5    \n",
    "while(x > 0):\n",
    "    print(x),\n",
    "    x-=1"
   ]
  },
  {
   "cell_type": "markdown",
   "metadata": {},
   "source": [
    "Mathematical and Logical Operators\n",
    "=="
   ]
  },
  {
   "cell_type": "code",
   "execution_count": 96,
   "metadata": {
    "collapsed": false
   },
   "outputs": [
    {
     "name": "stdout",
     "output_type": "stream",
     "text": [
      "2**4= 16\n"
     ]
    }
   ],
   "source": [
    "print \"2**4=\", 2**4   #Computing Powers"
   ]
  },
  {
   "cell_type": "code",
   "execution_count": 97,
   "metadata": {
    "collapsed": false
   },
   "outputs": [
    {
     "name": "stdout",
     "output_type": "stream",
     "text": [
      "2/4= 0\n"
     ]
    }
   ],
   "source": [
    "print \"2/4=\", 2/4     #Division of int by int"
   ]
  },
  {
   "cell_type": "code",
   "execution_count": 98,
   "metadata": {
    "collapsed": false
   },
   "outputs": [
    {
     "name": "stdout",
     "output_type": "stream",
     "text": [
      "2/4.= 0.5\n"
     ]
    }
   ],
   "source": [
    "print \"2/4.=\", 2/4.   #Division of int by float with ."
   ]
  },
  {
   "cell_type": "code",
   "execution_count": 99,
   "metadata": {
    "collapsed": false
   },
   "outputs": [
    {
     "name": "stdout",
     "output_type": "stream",
     "text": [
      "2./4= 0.5\n"
     ]
    }
   ],
   "source": [
    "print \"2./4=\", 2./4   #Division of float by int"
   ]
  },
  {
   "cell_type": "code",
   "execution_count": 103,
   "metadata": {
    "collapsed": false
   },
   "outputs": [
    {
     "name": "stdout",
     "output_type": "stream",
     "text": [
      "True or False= True\n"
     ]
    }
   ],
   "source": [
    "print \"True or False=\", True or False #Logical or"
   ]
  },
  {
   "cell_type": "code",
   "execution_count": 102,
   "metadata": {
    "collapsed": false
   },
   "outputs": [
    {
     "name": "stdout",
     "output_type": "stream",
     "text": [
      "True and False= False\n"
     ]
    }
   ],
   "source": [
    "print \"True and False=\", True and False #Logical and"
   ]
  },
  {
   "cell_type": "code",
   "execution_count": 104,
   "metadata": {
    "collapsed": false
   },
   "outputs": [
    {
     "name": "stdout",
     "output_type": "stream",
     "text": [
      "not(False)= True\n"
     ]
    }
   ],
   "source": [
    "print \"not(False)=\", not(False) #Logical not"
   ]
  },
  {
   "cell_type": "markdown",
   "metadata": {},
   "source": [
    "Functions\n",
    "=="
   ]
  },
  {
   "cell_type": "code",
   "execution_count": 105,
   "metadata": {
    "collapsed": false
   },
   "outputs": [
    {
     "name": "stdout",
     "output_type": "stream",
     "text": [
      "f(2)= 4\n"
     ]
    }
   ],
   "source": [
    "def f(a):             #Define a basic function of 1-argument\n",
    "    return a**2\n",
    "\n",
    "print \"f(2)=\",f(2)\n"
   ]
  },
  {
   "cell_type": "code",
   "execution_count": 110,
   "metadata": {
    "collapsed": false
   },
   "outputs": [
    {
     "name": "stdout",
     "output_type": "stream",
     "text": [
      "g(f,2,3)= 13\n"
     ]
    }
   ],
   "source": [
    "def g(h,a,b):         #Define a function of 3-arguments where h is a function and a and b are numbers\n",
    "    return h(a)+h(b)\n",
    "\n",
    "print \"g(f,2,3)=\",g(f,2,3)\n"
   ]
  },
  {
   "cell_type": "markdown",
   "metadata": {
    "collapsed": true
   },
   "source": [
    "NumPy Arrays\n",
    "--"
   ]
  },
  {
   "cell_type": "code",
   "execution_count": 112,
   "metadata": {
    "collapsed": false
   },
   "outputs": [
    {
     "name": "stdout",
     "output_type": "stream",
     "text": [
      "<type 'numpy.ndarray'>\n",
      "X=\n",
      "[[1 2]\n",
      " [3 4]\n",
      " [5 6]]\n"
     ]
    }
   ],
   "source": [
    "import numpy as np\n",
    "X = np.array([[1,2],[3,4],[5,6]])\n",
    "print type(X)\n",
    "print \"X=\\n\",X"
   ]
  },
  {
   "cell_type": "code",
   "execution_count": 113,
   "metadata": {
    "collapsed": false
   },
   "outputs": [
    {
     "name": "stdout",
     "output_type": "stream",
     "text": [
      "X.shape= (3, 2)\n"
     ]
    }
   ],
   "source": [
    "print \"X.shape=\", X.shape"
   ]
  },
  {
   "cell_type": "code",
   "execution_count": 114,
   "metadata": {
    "collapsed": false
   },
   "outputs": [
    {
     "name": "stdout",
     "output_type": "stream",
     "text": [
      "X[0,:]= [1 2]\n"
     ]
    }
   ],
   "source": [
    "print \"X[0,:]=\", X[0,:]"
   ]
  },
  {
   "cell_type": "code",
   "execution_count": 115,
   "metadata": {
    "collapsed": false
   },
   "outputs": [
    {
     "name": "stdout",
     "output_type": "stream",
     "text": [
      "X[:,1]= [2 4 6]\n"
     ]
    }
   ],
   "source": [
    "print \"X[:,1]=\", X[:,1]"
   ]
  },
  {
   "cell_type": "code",
   "execution_count": 116,
   "metadata": {
    "collapsed": false
   },
   "outputs": [
    {
     "name": "stdout",
     "output_type": "stream",
     "text": [
      "2*X=\n",
      "[[ 2  4]\n",
      " [ 6  8]\n",
      " [10 12]]\n"
     ]
    }
   ],
   "source": [
    "print \"2*X=\\n\", 2*X"
   ]
  },
  {
   "cell_type": "code",
   "execution_count": 117,
   "metadata": {
    "collapsed": false
   },
   "outputs": [
    {
     "name": "stdout",
     "output_type": "stream",
     "text": [
      "3: 5+X=\n",
      "[[ 6  7]\n",
      " [ 8  9]\n",
      " [10 11]]\n"
     ]
    }
   ],
   "source": [
    "print \"3: 5+X=\\n\", 5+X\n"
   ]
  },
  {
   "cell_type": "code",
   "execution_count": 118,
   "metadata": {
    "collapsed": false
   },
   "outputs": [
    {
     "name": "stdout",
     "output_type": "stream",
     "text": [
      "Y=\n",
      "[[-1  1 -1]]\n"
     ]
    }
   ],
   "source": [
    "Y = np.array([[-1,1,-1]])\n",
    "print \"Y=\\n\",Y"
   ]
  },
  {
   "cell_type": "code",
   "execution_count": 119,
   "metadata": {
    "collapsed": false
   },
   "outputs": [
    {
     "name": "stdout",
     "output_type": "stream",
     "text": [
      "6: Y.T=\n",
      "[[-1]\n",
      " [ 1]\n",
      " [-1]]\n"
     ]
    }
   ],
   "source": [
    "print \"6: Y.T=\\n\", Y.T"
   ]
  },
  {
   "cell_type": "code",
   "execution_count": 120,
   "metadata": {
    "collapsed": false
   },
   "outputs": [
    {
     "name": "stdout",
     "output_type": "stream",
     "text": [
      "Y.dot(X)=\n",
      "[[-3 -4]]\n"
     ]
    }
   ],
   "source": [
    "print \"Y.dot(X)=\\n\", Y.dot(X)"
   ]
  },
  {
   "cell_type": "code",
   "execution_count": 121,
   "metadata": {
    "collapsed": false
   },
   "outputs": [
    {
     "name": "stdout",
     "output_type": "stream",
     "text": [
      "Y.T + X =\n",
      "[[0 1]\n",
      " [4 5]\n",
      " [4 5]]\n"
     ]
    }
   ],
   "source": [
    "print \"Y.T + X =\\n\", Y.T + X"
   ]
  },
  {
   "cell_type": "code",
   "execution_count": 2,
   "metadata": {
    "collapsed": true
   },
   "outputs": [],
   "source": [
    "?"
   ]
  }
 ],
 "metadata": {
  "kernelspec": {
   "display_name": "Python 2",
   "language": "python",
   "name": "python2"
  },
  "language_info": {
   "codemirror_mode": {
    "name": "ipython",
    "version": 2
   },
   "file_extension": ".py",
   "mimetype": "text/x-python",
   "name": "python",
   "nbconvert_exporter": "python",
   "pygments_lexer": "ipython2",
   "version": "2.7.11"
  },
  "name": "Day 1 Python Intro.ipynb"
 },
 "nbformat": 4,
 "nbformat_minor": 0
}
